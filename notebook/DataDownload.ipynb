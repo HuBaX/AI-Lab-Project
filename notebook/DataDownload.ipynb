{
 "cells": [
  {
   "cell_type": "code",
   "execution_count": 4,
   "metadata": {},
   "outputs": [
    {
     "name": "stdout",
     "output_type": "stream",
     "text": [
      "Downloading and preparing dataset diffusiondb/large_first_100k to C:/Users/fruda/.cache/huggingface/datasets/poloclub___diffusiondb/large_first_100k/0.9.1/b3bc1e64570dc7149af62c4bac49ecfbce16b683dd4fee083292fae1afa95f7c...\n"
     ]
    },
    {
     "name": "stderr",
     "output_type": "stream",
     "text": [
      "Downloading data: 100%|██████████| 440M/440M [00:11<00:00, 40.0MB/s] \n",
      "Downloading data: 100%|██████████| 536M/536M [00:13<00:00, 40.4MB/s] \n",
      "Downloading data: 100%|██████████| 430M/430M [00:10<00:00, 39.9MB/s] \n",
      "Downloading data: 100%|██████████| 435M/435M [00:17<00:00, 24.6MB/s] \n",
      "Downloading data: 100%|██████████| 425M/425M [00:10<00:00, 39.0MB/s] \n",
      "Downloading data: 100%|██████████| 478M/478M [00:12<00:00, 38.5MB/s] \n",
      "Downloading data: 100%|██████████| 465M/465M [00:17<00:00, 26.2MB/s] \n",
      "Downloading data: 100%|██████████| 420M/420M [00:10<00:00, 38.2MB/s] \n",
      "Downloading data: 100%|██████████| 460M/460M [00:11<00:00, 40.1MB/s] \n",
      "Downloading data: 100%|██████████| 453M/453M [00:11<00:00, 39.2MB/s] \n",
      "Downloading data: 100%|██████████| 492M/492M [00:12<00:00, 40.1MB/s] \n",
      "Downloading data: 100%|██████████| 452M/452M [00:11<00:00, 39.4MB/s] \n",
      "Downloading data: 100%|██████████| 525M/525M [00:16<00:00, 31.8MB/s] \n",
      "Downloading data: 100%|██████████| 411M/411M [00:10<00:00, 39.2MB/s] \n",
      "Downloading data: 100%|██████████| 400M/400M [00:11<00:00, 34.1MB/s] \n",
      "Downloading data: 100%|██████████| 373M/373M [00:09<00:00, 38.5MB/s] \n",
      "Downloading data: 100%|██████████| 400M/400M [00:10<00:00, 39.0MB/s] \n",
      "Downloading data: 100%|██████████| 397M/397M [00:10<00:00, 38.3MB/s] \n",
      "Downloading data: 100%|██████████| 414M/414M [00:15<00:00, 26.1MB/s] \n",
      "Downloading data: 100%|██████████| 438M/438M [00:11<00:00, 39.8MB/s] \n",
      "Downloading data: 100%|██████████| 422M/422M [00:10<00:00, 40.0MB/s] \n",
      "Downloading data: 100%|██████████| 392M/392M [00:09<00:00, 39.3MB/s] \n",
      "Downloading data: 100%|██████████| 428M/428M [00:10<00:00, 39.3MB/s] \n",
      "Downloading data: 100%|██████████| 451M/451M [00:11<00:00, 39.9MB/s] \n",
      "Downloading data: 100%|██████████| 503M/503M [00:12<00:00, 40.5MB/s] \n",
      "Downloading data: 100%|██████████| 392M/392M [00:10<00:00, 38.9MB/s] \n",
      "Downloading data: 100%|██████████| 426M/426M [00:10<00:00, 39.7MB/s] \n",
      "Downloading data: 100%|██████████| 449M/449M [00:12<00:00, 36.2MB/s] \n",
      "Downloading data: 100%|██████████| 463M/463M [00:12<00:00, 37.1MB/s] \n",
      "Downloading data: 100%|██████████| 515M/515M [00:13<00:00, 39.4MB/s] \n",
      "Downloading data: 100%|██████████| 554M/554M [00:14<00:00, 39.6MB/s] \n",
      "Downloading data: 100%|██████████| 417M/417M [00:10<00:00, 38.1MB/s] \n",
      "Downloading data: 100%|██████████| 439M/439M [00:11<00:00, 39.4MB/s] \n",
      "Downloading data: 100%|██████████| 390M/390M [00:09<00:00, 39.6MB/s] \n",
      "Downloading data: 100%|██████████| 391M/391M [00:09<00:00, 39.9MB/s] \n",
      "Downloading data: 100%|██████████| 420M/420M [00:10<00:00, 39.8MB/s] \n",
      "Downloading data: 100%|██████████| 440M/440M [00:11<00:00, 39.5MB/s] \n",
      "Downloading data: 100%|██████████| 504M/504M [00:13<00:00, 37.2MB/s] \n",
      "Downloading data: 100%|██████████| 396M/396M [00:10<00:00, 37.2MB/s] \n",
      "Downloading data: 100%|██████████| 389M/389M [00:11<00:00, 34.3MB/s] \n",
      "Downloading data: 100%|██████████| 363M/363M [00:17<00:00, 20.2MB/s]   \n",
      "Downloading data: 100%|██████████| 347M/347M [00:08<00:00, 39.0MB/s] \n",
      "Downloading data: 100%|██████████| 389M/389M [00:09<00:00, 39.8MB/s] \n",
      "Downloading data: 100%|██████████| 405M/405M [00:10<00:00, 40.1MB/s] \n",
      "Downloading data: 100%|██████████| 363M/363M [00:09<00:00, 39.4MB/s] \n",
      "Downloading data: 100%|██████████| 378M/378M [00:09<00:00, 38.7MB/s] \n",
      "Downloading data: 100%|██████████| 385M/385M [00:10<00:00, 35.4MB/s] \n",
      "Downloading data: 100%|██████████| 375M/375M [00:09<00:00, 40.3MB/s] \n",
      "Downloading data: 100%|██████████| 423M/423M [00:10<00:00, 39.9MB/s] \n",
      "Downloading data: 100%|██████████| 425M/425M [00:10<00:00, 40.0MB/s] \n",
      "                                                                  \r"
     ]
    },
    {
     "name": "stdout",
     "output_type": "stream",
     "text": [
      "Dataset diffusiondb downloaded and prepared to C:/Users/fruda/.cache/huggingface/datasets/poloclub___diffusiondb/large_first_100k/0.9.1/b3bc1e64570dc7149af62c4bac49ecfbce16b683dd4fee083292fae1afa95f7c. Subsequent calls will reuse this data.\n"
     ]
    },
    {
     "name": "stderr",
     "output_type": "stream",
     "text": [
      "100%|██████████| 1/1 [00:00<00:00, 40.52it/s]\n",
      "                                                                                                    \r"
     ]
    }
   ],
   "source": [
    "from datasets import load_dataset\n",
    "\n",
    "dataset_name = \"dataset_name\"  # Replace with the name of the dataset you want to download\n",
    "save_directory = \"data\"  # Replace with the desired save directory\n",
    "\n",
    "# Load the dataset\n",
    "dataset = load_dataset('poloclub/diffusiondb', 'large_first_100k')\n",
    "\n",
    "# Save the dataset to the specified directory\n",
    "dataset.save_to_disk(save_directory)"
   ]
  }
 ],
 "metadata": {
  "kernelspec": {
   "display_name": "AI-Lab",
   "language": "python",
   "name": "python3"
  },
  "language_info": {
   "codemirror_mode": {
    "name": "ipython",
    "version": 3
   },
   "file_extension": ".py",
   "mimetype": "text/x-python",
   "name": "python",
   "nbconvert_exporter": "python",
   "pygments_lexer": "ipython3",
   "version": "3.11.3"
  },
  "orig_nbformat": 4
 },
 "nbformat": 4,
 "nbformat_minor": 2
}
